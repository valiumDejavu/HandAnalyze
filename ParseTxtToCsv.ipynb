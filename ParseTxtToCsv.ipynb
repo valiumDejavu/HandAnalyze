{
 "cells": [
  {
   "cell_type": "code",
   "execution_count": 1,
   "metadata": {
    "scrolled": false
   },
   "outputs": [
    {
     "ename": "SyntaxError",
     "evalue": "unexpected EOF while parsing (<ipython-input-1-eede8c342908>, line 31)",
     "output_type": "error",
     "traceback": [
      "\u001b[1;36m  File \u001b[1;32m\"<ipython-input-1-eede8c342908>\"\u001b[1;36m, line \u001b[1;32m31\u001b[0m\n\u001b[1;33m    # print(handsNumber)\u001b[0m\n\u001b[1;37m                        ^\u001b[0m\n\u001b[1;31mSyntaxError\u001b[0m\u001b[1;31m:\u001b[0m unexpected EOF while parsing\n"
     ]
    }
   ],
   "source": [
    "import re\n",
    "import sys\n",
    "import codecs\n",
    "import csv\n",
    "\n",
    "\n",
    "\n",
    "\n",
    "# the file path\n",
    "pathRead='C:\\data\\data.txt'\n",
    "pathWrite='C:\\data\\output.csv'\n",
    "\n",
    "# read the txt file\n",
    "infile=codecs.open(pathRead,'r','utf-8')\n",
    "outfile = open('csvfile.csv','w')\n",
    "copy = False\n",
    "handsNumber=1\n",
    "for line in infile:\n",
    "    #print (\"Entering the loop\")\n",
    "    if line.startswith(\"Table\"):\n",
    "            #print (\"copy is now true\")\n",
    "            copy = True\n",
    "    if line.startswith(\"PokerStars\"):\n",
    "            handsNumber=handsNumber+1\n",
    "            copy = False\n",
    "            #print (copy)\n",
    "    if copy:\n",
    "            #print(line)\n",
    "            hansNumber+1   \n",
    "    if copy==False:\n",
    "       # print(handsNumber)"
   ]
  },
  {
   "cell_type": "code",
   "execution_count": 1,
   "metadata": {},
   "outputs": [
    {
     "ename": "ValueError",
     "evalue": "'J' is not a valid Rank",
     "output_type": "error",
     "traceback": [
      "\u001b[1;31m---------------------------------------------------------------------------\u001b[0m",
      "\u001b[1;31mValueError\u001b[0m                                Traceback (most recent call last)",
      "\u001b[1;32m<ipython-input-1-43de3c3151dd>\u001b[0m in \u001b[0;36m<module>\u001b[1;34m()\u001b[0m\n\u001b[1;32m----> 1\u001b[1;33m \u001b[1;32mfrom\u001b[0m \u001b[0mpoker\u001b[0m\u001b[1;33m.\u001b[0m\u001b[0mroom\u001b[0m\u001b[1;33m.\u001b[0m\u001b[0mpokerstars\u001b[0m \u001b[1;32mimport\u001b[0m \u001b[0mPokerStarsHandHistory\u001b[0m\u001b[1;33m\u001b[0m\u001b[0m\n\u001b[0m",
      "\u001b[1;32mC:\\Users\\jiafei.duan\\AppData\\Local\\Continuum\\Anaconda3\\lib\\site-packages\\poker\\__init__.py\u001b[0m in \u001b[0;36m<module>\u001b[1;34m()\u001b[0m\n\u001b[0;32m      8\u001b[0m \u001b[1;33m\u001b[0m\u001b[0m\n\u001b[0;32m      9\u001b[0m \u001b[1;32mfrom\u001b[0m \u001b[0mpoker\u001b[0m\u001b[1;33m.\u001b[0m\u001b[0m_common\u001b[0m \u001b[1;32mimport\u001b[0m \u001b[0mPokerEnum\u001b[0m\u001b[1;33m\u001b[0m\u001b[0m\n\u001b[1;32m---> 10\u001b[1;33m \u001b[1;32mfrom\u001b[0m \u001b[0mpoker\u001b[0m\u001b[1;33m.\u001b[0m\u001b[0mcard\u001b[0m \u001b[1;32mimport\u001b[0m \u001b[0mSuit\u001b[0m\u001b[1;33m,\u001b[0m \u001b[0mRank\u001b[0m\u001b[1;33m,\u001b[0m \u001b[0mCard\u001b[0m\u001b[1;33m,\u001b[0m \u001b[0mFACE_RANKS\u001b[0m\u001b[1;33m,\u001b[0m \u001b[0mBROADWAY_RANKS\u001b[0m\u001b[1;33m\u001b[0m\u001b[0m\n\u001b[0m\u001b[0;32m     11\u001b[0m \u001b[1;32mfrom\u001b[0m \u001b[0mpoker\u001b[0m\u001b[1;33m.\u001b[0m\u001b[0mhand\u001b[0m \u001b[1;32mimport\u001b[0m \u001b[0mShape\u001b[0m\u001b[1;33m,\u001b[0m \u001b[0mHand\u001b[0m\u001b[1;33m,\u001b[0m \u001b[0mCombo\u001b[0m\u001b[1;33m,\u001b[0m \u001b[0mRange\u001b[0m\u001b[1;33m,\u001b[0m \u001b[0mPAIR_HANDS\u001b[0m\u001b[1;33m,\u001b[0m \u001b[0mOFFSUIT_HANDS\u001b[0m\u001b[1;33m,\u001b[0m \u001b[0mSUITED_HANDS\u001b[0m\u001b[1;33m\u001b[0m\u001b[0m\n\u001b[0;32m     12\u001b[0m \u001b[1;32mfrom\u001b[0m \u001b[0mpoker\u001b[0m\u001b[1;33m.\u001b[0m\u001b[0mconstants\u001b[0m \u001b[1;32mimport\u001b[0m \u001b[0mPokerRoom\u001b[0m\u001b[1;33m,\u001b[0m \u001b[0mCurrency\u001b[0m\u001b[1;33m,\u001b[0m \u001b[0mGame\u001b[0m\u001b[1;33m,\u001b[0m \u001b[0mGameType\u001b[0m\u001b[1;33m,\u001b[0m \u001b[0mLimit\u001b[0m\u001b[1;33m,\u001b[0m \u001b[0mMoneyType\u001b[0m\u001b[1;33m,\u001b[0m \u001b[0mAction\u001b[0m\u001b[1;33m,\u001b[0m \u001b[0mPosition\u001b[0m\u001b[1;33m\u001b[0m\u001b[0m\n",
      "\u001b[1;32mC:\\Users\\jiafei.duan\\AppData\\Local\\Continuum\\Anaconda3\\lib\\site-packages\\poker\\card.py\u001b[0m in \u001b[0;36m<module>\u001b[1;34m()\u001b[0m\n\u001b[0;32m     49\u001b[0m \u001b[1;33m\u001b[0m\u001b[0m\n\u001b[0;32m     50\u001b[0m \u001b[1;33m\u001b[0m\u001b[0m\n\u001b[1;32m---> 51\u001b[1;33m \u001b[0mFACE_RANKS\u001b[0m \u001b[1;33m=\u001b[0m \u001b[0mRank\u001b[0m\u001b[1;33m(\u001b[0m\u001b[1;34m'J'\u001b[0m\u001b[1;33m)\u001b[0m\u001b[1;33m,\u001b[0m \u001b[0mRank\u001b[0m\u001b[1;33m(\u001b[0m\u001b[1;34m'Q'\u001b[0m\u001b[1;33m)\u001b[0m\u001b[1;33m,\u001b[0m \u001b[0mRank\u001b[0m\u001b[1;33m(\u001b[0m\u001b[1;34m'K'\u001b[0m\u001b[1;33m)\u001b[0m\u001b[1;33m\u001b[0m\u001b[0m\n\u001b[0m\u001b[0;32m     52\u001b[0m \u001b[1;33m\u001b[0m\u001b[0m\n\u001b[0;32m     53\u001b[0m \u001b[0mBROADWAY_RANKS\u001b[0m \u001b[1;33m=\u001b[0m \u001b[0mRank\u001b[0m\u001b[1;33m(\u001b[0m\u001b[1;34m'T'\u001b[0m\u001b[1;33m)\u001b[0m\u001b[1;33m,\u001b[0m \u001b[0mRank\u001b[0m\u001b[1;33m(\u001b[0m\u001b[1;34m'J'\u001b[0m\u001b[1;33m)\u001b[0m\u001b[1;33m,\u001b[0m \u001b[0mRank\u001b[0m\u001b[1;33m(\u001b[0m\u001b[1;34m'Q'\u001b[0m\u001b[1;33m)\u001b[0m\u001b[1;33m,\u001b[0m \u001b[0mRank\u001b[0m\u001b[1;33m(\u001b[0m\u001b[1;34m'K'\u001b[0m\u001b[1;33m)\u001b[0m\u001b[1;33m,\u001b[0m \u001b[0mRank\u001b[0m\u001b[1;33m(\u001b[0m\u001b[1;34m'A'\u001b[0m\u001b[1;33m)\u001b[0m\u001b[1;33m\u001b[0m\u001b[0m\n",
      "\u001b[1;32mC:\\Users\\jiafei.duan\\AppData\\Local\\Continuum\\Anaconda3\\lib\\enum.py\u001b[0m in \u001b[0;36m__call__\u001b[1;34m(cls, value, names, module, qualname, type, start)\u001b[0m\n\u001b[0;32m    289\u001b[0m         \"\"\"\n\u001b[0;32m    290\u001b[0m         \u001b[1;32mif\u001b[0m \u001b[0mnames\u001b[0m \u001b[1;32mis\u001b[0m \u001b[1;32mNone\u001b[0m\u001b[1;33m:\u001b[0m  \u001b[1;31m# simple value lookup\u001b[0m\u001b[1;33m\u001b[0m\u001b[0m\n\u001b[1;32m--> 291\u001b[1;33m             \u001b[1;32mreturn\u001b[0m \u001b[0mcls\u001b[0m\u001b[1;33m.\u001b[0m\u001b[0m__new__\u001b[0m\u001b[1;33m(\u001b[0m\u001b[0mcls\u001b[0m\u001b[1;33m,\u001b[0m \u001b[0mvalue\u001b[0m\u001b[1;33m)\u001b[0m\u001b[1;33m\u001b[0m\u001b[0m\n\u001b[0m\u001b[0;32m    292\u001b[0m         \u001b[1;31m# otherwise, functional API: we're creating a new Enum type\u001b[0m\u001b[1;33m\u001b[0m\u001b[1;33m\u001b[0m\u001b[0m\n\u001b[0;32m    293\u001b[0m         \u001b[1;32mreturn\u001b[0m \u001b[0mcls\u001b[0m\u001b[1;33m.\u001b[0m\u001b[0m_create_\u001b[0m\u001b[1;33m(\u001b[0m\u001b[0mvalue\u001b[0m\u001b[1;33m,\u001b[0m \u001b[0mnames\u001b[0m\u001b[1;33m,\u001b[0m \u001b[0mmodule\u001b[0m\u001b[1;33m=\u001b[0m\u001b[0mmodule\u001b[0m\u001b[1;33m,\u001b[0m \u001b[0mqualname\u001b[0m\u001b[1;33m=\u001b[0m\u001b[0mqualname\u001b[0m\u001b[1;33m,\u001b[0m \u001b[0mtype\u001b[0m\u001b[1;33m=\u001b[0m\u001b[0mtype\u001b[0m\u001b[1;33m,\u001b[0m \u001b[0mstart\u001b[0m\u001b[1;33m=\u001b[0m\u001b[0mstart\u001b[0m\u001b[1;33m)\u001b[0m\u001b[1;33m\u001b[0m\u001b[0m\n",
      "\u001b[1;32mC:\\Users\\jiafei.duan\\AppData\\Local\\Continuum\\Anaconda3\\lib\\enum.py\u001b[0m in \u001b[0;36m__new__\u001b[1;34m(cls, value)\u001b[0m\n\u001b[0;32m    531\u001b[0m                     \u001b[1;32mreturn\u001b[0m \u001b[0mmember\u001b[0m\u001b[1;33m\u001b[0m\u001b[0m\n\u001b[0;32m    532\u001b[0m         \u001b[1;31m# still not found -- try _missing_ hook\u001b[0m\u001b[1;33m\u001b[0m\u001b[1;33m\u001b[0m\u001b[0m\n\u001b[1;32m--> 533\u001b[1;33m         \u001b[1;32mreturn\u001b[0m \u001b[0mcls\u001b[0m\u001b[1;33m.\u001b[0m\u001b[0m_missing_\u001b[0m\u001b[1;33m(\u001b[0m\u001b[0mvalue\u001b[0m\u001b[1;33m)\u001b[0m\u001b[1;33m\u001b[0m\u001b[0m\n\u001b[0m\u001b[0;32m    534\u001b[0m \u001b[1;33m\u001b[0m\u001b[0m\n\u001b[0;32m    535\u001b[0m     \u001b[1;32mdef\u001b[0m \u001b[0m_generate_next_value_\u001b[0m\u001b[1;33m(\u001b[0m\u001b[0mname\u001b[0m\u001b[1;33m,\u001b[0m \u001b[0mstart\u001b[0m\u001b[1;33m,\u001b[0m \u001b[0mcount\u001b[0m\u001b[1;33m,\u001b[0m \u001b[0mlast_values\u001b[0m\u001b[1;33m)\u001b[0m\u001b[1;33m:\u001b[0m\u001b[1;33m\u001b[0m\u001b[0m\n",
      "\u001b[1;32mC:\\Users\\jiafei.duan\\AppData\\Local\\Continuum\\Anaconda3\\lib\\enum.py\u001b[0m in \u001b[0;36m_missing_\u001b[1;34m(cls, value)\u001b[0m\n\u001b[0;32m    544\u001b[0m     \u001b[1;33m@\u001b[0m\u001b[0mclassmethod\u001b[0m\u001b[1;33m\u001b[0m\u001b[0m\n\u001b[0;32m    545\u001b[0m     \u001b[1;32mdef\u001b[0m \u001b[0m_missing_\u001b[0m\u001b[1;33m(\u001b[0m\u001b[0mcls\u001b[0m\u001b[1;33m,\u001b[0m \u001b[0mvalue\u001b[0m\u001b[1;33m)\u001b[0m\u001b[1;33m:\u001b[0m\u001b[1;33m\u001b[0m\u001b[0m\n\u001b[1;32m--> 546\u001b[1;33m         \u001b[1;32mraise\u001b[0m \u001b[0mValueError\u001b[0m\u001b[1;33m(\u001b[0m\u001b[1;34m\"%r is not a valid %s\"\u001b[0m \u001b[1;33m%\u001b[0m \u001b[1;33m(\u001b[0m\u001b[0mvalue\u001b[0m\u001b[1;33m,\u001b[0m \u001b[0mcls\u001b[0m\u001b[1;33m.\u001b[0m\u001b[0m__name__\u001b[0m\u001b[1;33m)\u001b[0m\u001b[1;33m)\u001b[0m\u001b[1;33m\u001b[0m\u001b[0m\n\u001b[0m\u001b[0;32m    547\u001b[0m \u001b[1;33m\u001b[0m\u001b[0m\n\u001b[0;32m    548\u001b[0m     \u001b[1;32mdef\u001b[0m \u001b[0m__repr__\u001b[0m\u001b[1;33m(\u001b[0m\u001b[0mself\u001b[0m\u001b[1;33m)\u001b[0m\u001b[1;33m:\u001b[0m\u001b[1;33m\u001b[0m\u001b[0m\n",
      "\u001b[1;31mValueError\u001b[0m: 'J' is not a valid Rank"
     ]
    }
   ],
   "source": [
    "from poker.room.pokerstars import PokerStarsHandHistory"
   ]
  },
  {
   "cell_type": "code",
   "execution_count": 2,
   "metadata": {},
   "outputs": [
    {
     "name": "stdout",
     "output_type": "stream",
     "text": [
      "Requirement already satisfied: poker in c:\\users\\jiafei.duan\\appdata\\local\\continuum\\anaconda3\\lib\\site-packages\n",
      "Requirement already satisfied: cached-property in c:\\users\\jiafei.duan\\appdata\\local\\continuum\\anaconda3\\lib\\site-packages (from poker)\n",
      "Requirement already satisfied: click in c:\\users\\jiafei.duan\\appdata\\local\\continuum\\anaconda3\\lib\\site-packages (from poker)\n",
      "Requirement already satisfied: enum34 in c:\\users\\jiafei.duan\\appdata\\local\\continuum\\anaconda3\\lib\\site-packages (from poker)\n",
      "Requirement already satisfied: python-dateutil in c:\\users\\jiafei.duan\\appdata\\local\\continuum\\anaconda3\\lib\\site-packages (from poker)\n",
      "Requirement already satisfied: pathlib in c:\\users\\jiafei.duan\\appdata\\local\\continuum\\anaconda3\\lib\\site-packages (from poker)\n",
      "Requirement already satisfied: parsedatetime in c:\\users\\jiafei.duan\\appdata\\local\\continuum\\anaconda3\\lib\\site-packages (from poker)\n",
      "Requirement already satisfied: pytz in c:\\users\\jiafei.duan\\appdata\\local\\continuum\\anaconda3\\lib\\site-packages (from poker)\n",
      "Requirement already satisfied: requests in c:\\users\\jiafei.duan\\appdata\\local\\continuum\\anaconda3\\lib\\site-packages (from poker)\n",
      "Requirement already satisfied: configparser in c:\\users\\jiafei.duan\\appdata\\local\\continuum\\anaconda3\\lib\\site-packages (from poker)\n",
      "Requirement already satisfied: lxml in c:\\users\\jiafei.duan\\appdata\\local\\continuum\\anaconda3\\lib\\site-packages (from poker)\n",
      "Requirement already satisfied: six>=1.5 in c:\\users\\jiafei.duan\\appdata\\local\\continuum\\anaconda3\\lib\\site-packages (from python-dateutil->poker)\n",
      "Requirement already satisfied: future in c:\\users\\jiafei.duan\\appdata\\local\\continuum\\anaconda3\\lib\\site-packages (from parsedatetime->poker)\n"
     ]
    }
   ],
   "source": [
    "!pip install poker\n"
   ]
  },
  {
   "cell_type": "code",
   "execution_count": null,
   "metadata": {
    "collapsed": true
   },
   "outputs": [],
   "source": []
  },
  {
   "cell_type": "code",
   "execution_count": null,
   "metadata": {
    "collapsed": true
   },
   "outputs": [],
   "source": []
  },
  {
   "cell_type": "code",
   "execution_count": null,
   "metadata": {
    "collapsed": true
   },
   "outputs": [],
   "source": []
  }
 ],
 "metadata": {
  "kernelspec": {
   "display_name": "Python 3",
   "language": "python",
   "name": "python3"
  },
  "language_info": {
   "codemirror_mode": {
    "name": "ipython",
    "version": 3
   },
   "file_extension": ".py",
   "mimetype": "text/x-python",
   "name": "python",
   "nbconvert_exporter": "python",
   "pygments_lexer": "ipython3",
   "version": "3.6.1"
  }
 },
 "nbformat": 4,
 "nbformat_minor": 2
}
